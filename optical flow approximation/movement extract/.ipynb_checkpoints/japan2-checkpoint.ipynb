{
 "cells": [
  {
   "cell_type": "code",
   "execution_count": null,
   "id": "b203d69f",
   "metadata": {},
   "outputs": [],
   "source": [
    "import cv2\n",
    "import numpy as np\n",
    "import pandas as pd\n",
    "\n",
    "# 입력 영상 경로\n",
    "video_path = 'C:/Users/OSY\\optical flow approximation/data/japan2.mp4'\n",
    "\n",
    "# 비디오 캡처 초기화\n",
    "cap = cv2.VideoCapture(video_path)\n",
    "\n",
    "# 이전 프레임 초기화\n",
    "ret, prev_frame = cap.read()\n",
    "if not ret:\n",
    "    exit(1)\n",
    "\n",
    "# 데이터프레임을 위한 리스트 초기화\n",
    "df_data = []\n",
    "\n",
    "# 초당 10프레임으로 샘플링하기 위한 변수\n",
    "frame_count = 0\n",
    "frame_sample_rate = int(cap.get(cv2.CAP_PROP_FPS) / 10)\n",
    "\n",
    "while True:\n",
    "    # 다음 프레임 읽기\n",
    "    ret, frame = cap.read()\n",
    "    if not ret:\n",
    "        break\n",
    "\n",
    "    # 현재 프레임과 이전 프레임 사이의 차이 계산\n",
    "    frame_diff = cv2.absdiff(frame, prev_frame)\n",
    "\n",
    "    # 차이 이미지 이진화\n",
    "    _, binary_diff = cv2.threshold(cv2.cvtColor(frame_diff, cv2.COLOR_BGR2GRAY), 30, 255, cv2.THRESH_BINARY)\n",
    "\n",
    "    # 움직임 영역 추출\n",
    "    contours, _ = cv2.findContours(binary_diff, cv2.RETR_EXTERNAL, cv2.CHAIN_APPROX_SIMPLE)\n",
    "\n",
    "    # 움직임 영역만 그리기 위한 복사본 생성\n",
    "    movement_area = frame.copy()\n",
    "\n",
    "    # 추출된 움직임 영역을 시각화 이미지에 그리기\n",
    "    cv2.drawContours(movement_area, contours, -1, (0, 255, 0), 2)\n",
    "\n",
    "    # 초당 10프레임으로 데이터 샘플링\n",
    "    if frame_count % frame_sample_rate == 0:\n",
    "        # 움직임 정보 계산\n",
    "        movement_count = len(contours)\n",
    "        if movement_count > 0:\n",
    "            total_movement = 0\n",
    "            centroid_x_sum = 0\n",
    "            centroid_y_sum = 0\n",
    "            for cnt in contours:\n",
    "                area = cv2.contourArea(cnt)\n",
    "                if area > 0:\n",
    "                    M = cv2.moments(cnt)\n",
    "                    centroid_x_sum += int(M['m10'] / M['m00'])\n",
    "                    centroid_y_sum += int(M['m01'] / M['m00'])\n",
    "                    total_movement += area\n",
    "\n",
    "            average_movement = total_movement / movement_count\n",
    "\n",
    "            # 움직임 방향 계산\n",
    "            average_centroid_x = centroid_x_sum / movement_count\n",
    "            average_centroid_y = centroid_y_sum / movement_count\n",
    "            average_movement_direction = np.arctan2(average_centroid_y - frame.shape[0] / 2,\n",
    "                                                    average_centroid_x - frame.shape[1] / 2) * 180 / np.pi\n",
    "\n",
    "            # 데이터프레임에 정보 추가\n",
    "            df_data.append({\n",
    "                'Time': cap.get(cv2.CAP_PROP_POS_MSEC) / 1000,  # 초 단위로 변환\n",
    "                'Average Movement': average_movement,\n",
    "                'Average Movement Size': np.sqrt(average_movement),\n",
    "                'Average Movement Direction': average_movement_direction\n",
    "            })\n",
    "\n",
    "    # 시각화된 프레임 출력\n",
    "    cv2.imshow(\"Crowd Flow Visualization\", movement_area)\n",
    "\n",
    "    # 이전 프레임 업데이트\n",
    "    prev_frame = frame.copy()\n",
    "\n",
    "    # 프레임 카운트 증가\n",
    "    frame_count += 1\n",
    "\n",
    "    # 'q' 키를 누르면 종료\n",
    "    if cv2.waitKey(1) & 0xFF == ord('q'):\n",
    "        break\n",
    "\n",
    "# 데이터프레임 생성\n",
    "df = pd.DataFrame(df_data)\n",
    "\n",
    "# 데이터프레임 저장\n",
    "df.to_csv('C:/Users/OSY\\optical flow approximation/movementdata/japan2.csv', index=False)\n",
    "\n",
    "# 자원 해제\n",
    "cap.release()\n",
    "cv2.destroyAllWindows()\n"
   ]
  },
  {
   "cell_type": "code",
   "execution_count": null,
   "id": "b69e0327",
   "metadata": {},
   "outputs": [],
   "source": [
    "df"
   ]
  },
  {
   "cell_type": "code",
   "execution_count": null,
   "id": "4a55f56c",
   "metadata": {},
   "outputs": [],
   "source": [
    "import matplotlib.pyplot as plt"
   ]
  },
  {
   "cell_type": "code",
   "execution_count": null,
   "id": "3829b61e",
   "metadata": {},
   "outputs": [],
   "source": [
    "plt.plot(df['Average Movement'])"
   ]
  },
  {
   "cell_type": "code",
   "execution_count": null,
   "id": "173fce11",
   "metadata": {},
   "outputs": [],
   "source": [
    "plt.plot(df['Average Movement Size'])"
   ]
  },
  {
   "cell_type": "code",
   "execution_count": null,
   "id": "203e3b82",
   "metadata": {},
   "outputs": [],
   "source": [
    "plt.plot(df['Average Movement Direction'])"
   ]
  },
  {
   "cell_type": "code",
   "execution_count": null,
   "id": "3653015d",
   "metadata": {},
   "outputs": [],
   "source": []
  }
 ],
 "metadata": {
  "kernelspec": {
   "display_name": "Python 3 (ipykernel)",
   "language": "python",
   "name": "python3"
  },
  "language_info": {
   "codemirror_mode": {
    "name": "ipython",
    "version": 3
   },
   "file_extension": ".py",
   "mimetype": "text/x-python",
   "name": "python",
   "nbconvert_exporter": "python",
   "pygments_lexer": "ipython3",
   "version": "3.9.16"
  }
 },
 "nbformat": 4,
 "nbformat_minor": 5
}
