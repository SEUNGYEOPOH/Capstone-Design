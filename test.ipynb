{
 "cells": [
  {
   "cell_type": "code",
   "execution_count": 1,
   "id": "c17a146e",
   "metadata": {},
   "outputs": [
    {
     "name": "stdout",
     "output_type": "stream",
     "text": [
      "C:\\Users\\USER\\python_code\\Capstone\\segmentation_models\\segmentation_model\n"
     ]
    }
   ],
   "source": [
    "%cd segmentation_model"
   ]
  },
  {
   "cell_type": "code",
   "execution_count": 2,
   "id": "887f1413",
   "metadata": {},
   "outputs": [
    {
     "name": "stdout",
     "output_type": "stream",
     "text": [
      "Segmentation Models: using `keras` framework.\n"
     ]
    }
   ],
   "source": [
    "from tools.img_tools import *\n",
    "from tools.preprocessing import *\n",
    "from tools.augmentation import *\n",
    "from PIL import Image\n",
    "import os\n",
    "import albumentations as A\n",
    "import segmentation_models as sm\n",
    "import cv2"
   ]
  },
  {
   "cell_type": "code",
   "execution_count": 3,
   "id": "ff21406e",
   "metadata": {},
   "outputs": [
    {
     "data": {
      "text/plain": [
       "[name: \"/device:CPU:0\"\n",
       " device_type: \"CPU\"\n",
       " memory_limit: 268435456\n",
       " locality {\n",
       " }\n",
       " incarnation: 16824165999517155745\n",
       " xla_global_id: -1,\n",
       " name: \"/device:GPU:0\"\n",
       " device_type: \"GPU\"\n",
       " memory_limit: 3643801600\n",
       " locality {\n",
       "   bus_id: 1\n",
       "   links {\n",
       "   }\n",
       " }\n",
       " incarnation: 11472180936037260251\n",
       " physical_device_desc: \"device: 0, name: NVIDIA GeForce RTX 3060 Laptop GPU, pci bus id: 0000:01:00.0, compute capability: 8.6\"\n",
       " xla_global_id: 416903419]"
      ]
     },
     "execution_count": 3,
     "metadata": {},
     "output_type": "execute_result"
    }
   ],
   "source": [
    "from tensorflow.python.client import device_lib\n",
    "device_lib.list_local_devices()"
   ]
  },
  {
   "cell_type": "code",
   "execution_count": 4,
   "id": "d4663483",
   "metadata": {},
   "outputs": [],
   "source": [
    "os.environ[\"CUDA_VISIBLE_DEVICES\"] = \"0\""
   ]
  },
  {
   "cell_type": "code",
   "execution_count": 5,
   "id": "52354097",
   "metadata": {},
   "outputs": [
    {
     "name": "stdout",
     "output_type": "stream",
     "text": [
      "Area: 164.3585765416442 square meters\n"
     ]
    },
    {
     "data": {
      "text/plain": [
       "164.3585765416442"
      ]
     },
     "execution_count": 5,
     "metadata": {},
     "output_type": "execute_result"
    }
   ],
   "source": [
    "BACKBONE = 'efficientnetb3'\n",
    "\n",
    "model = sm.Unet(BACKBONE)\n",
    "model.load_weights('best_model.h5') \n",
    "\n",
    "# img_dir = './data_road/label/'\n",
    "# file = os.listdir(img_dir)\n",
    "# for f in file:\n",
    "#     img_path = os.path.join(img_dir,f)\n",
    "#     img = Image.open(img_path)\n",
    "img = Image.open('./img/label/001.png')\n",
    "\n",
    "dpi = img.info['dpi']\n",
    "measure(img, dpi=dpi[0])"
   ]
  },
  {
   "cell_type": "code",
   "execution_count": null,
   "id": "4c6956a6",
   "metadata": {},
   "outputs": [],
   "source": [
    "\n",
    "cap = cv2.VideoCapture(\"C:/vod/avenger.mp4\")\n",
    "\n",
    " \n",
    "\n",
    "width = cap.get(cv2.CAP_PROP_FRAME_WIDTH)\n",
    "\n",
    "height = cap.get(cv2.CAP_PROP_FRAME_HEIGHT)\n",
    "\n",
    " \n",
    "\n",
    "## 비디오가 정상적으로 열렸는지 확인\n",
    "\n",
    "while (cap.isOpened):\n",
    "\n",
    "    ret, frame = cap.read()\n",
    "\n",
    "    if ret:\n",
    "        cv2.imshow(\"video\", frame)\n",
    "        k = cv2.waitKey(33)\n",
    "\n",
    "        if k == 27:\n",
    "            break\n",
    "    else:\n",
    "        break\n",
    "\n",
    "cap.release()\n",
    "\n",
    "cv2.destroyAllWindows()"
   ]
  }
 ],
 "metadata": {
  "kernelspec": {
   "display_name": "'capstone'",
   "language": "python",
   "name": "capstone"
  },
  "language_info": {
   "codemirror_mode": {
    "name": "ipython",
    "version": 3
   },
   "file_extension": ".py",
   "mimetype": "text/x-python",
   "name": "python",
   "nbconvert_exporter": "python",
   "pygments_lexer": "ipython3",
   "version": "3.10.10"
  }
 },
 "nbformat": 4,
 "nbformat_minor": 5
}
