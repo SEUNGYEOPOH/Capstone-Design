{
 "cells": [
  {
   "cell_type": "code",
   "execution_count": 1,
   "metadata": {},
   "outputs": [
    {
     "data": {
      "text/plain": [
       "'1.13.1+cpu'"
      ]
     },
     "execution_count": 1,
     "metadata": {},
     "output_type": "execute_result"
    }
   ],
   "source": [
    "import torch\n",
    "torch.__version__"
   ]
  },
  {
   "cell_type": "code",
   "execution_count": 1,
   "metadata": {},
   "outputs": [
    {
     "name": "stdout",
     "output_type": "stream",
     "text": [
      "Segmentation Models: using `keras` framework.\n"
     ]
    }
   ],
   "source": [
    "import tools.segmentation_models as sm\n",
    "from tools.img_tools import *\n",
    "from tools.train_model import *"
   ]
  },
  {
   "cell_type": "code",
   "execution_count": null,
   "metadata": {
    "id": "nR7uwwV20lZp"
   },
   "outputs": [],
   "source": [
    "#colab에서 사용하는 경우\n",
    "from google.colab import drive\n",
    "drive.mount('/content/drive')"
   ]
  },
  {
   "cell_type": "code",
   "execution_count": null,
   "metadata": {
    "id": "thcwDaH_ekP8"
   },
   "outputs": [],
   "source": [
    "#yolov5다운이 필요한 경우\n",
    "!git clone https://github.com/ultralytics/yolov5.git\n",
    "!pip install -U -r yolov5/requirements.txt"
   ]
  },
  {
   "cell_type": "code",
   "execution_count": 1,
   "metadata": {
    "id": "MSyPKoWqfhtW"
   },
   "outputs": [
    {
     "name": "stdout",
     "output_type": "stream",
     "text": [
      "torch 1.13.1+cpu CPU\n"
     ]
    }
   ],
   "source": [
    "#토치 버전체크\n",
    "import torch\n",
    "print('torch %s %s' % (torch.__version__, torch.cuda.get_device_properties(0) if torch.cuda.is_available() else 'CPU'))"
   ]
  },
  {
   "cell_type": "code",
   "execution_count": null,
   "metadata": {
    "id": "kwsZ1LbWf0Nb"
   },
   "outputs": [],
   "source": [
    "#학습데이터 다운\n",
    "%cd /content/drive/MyDrive/\n",
    "!mkdir datasets\n",
    "%cd /content/drive/MyDrive/datasets\n",
    "!curl -L \"https://universe.roboflow.com/ds/7qJKtynHTP?key=PF6xATdJaC\" > roboflow.zip; unzip roboflow.zip; rm roboflow.zip"
   ]
  },
  {
   "cell_type": "code",
   "execution_count": null,
   "metadata": {
    "id": "eW-lB3vVgIHL"
   },
   "outputs": [],
   "source": [
    "#학습데이터 경로\n",
    "from glob import glob\n",
    "#이미지 경로 list로 넣기\n",
    "train_img_list = glob('./train/images/*.jpg') + glob('./train/images/*.jpeg')\n",
    "valid_img_list = glob('./valid/images/*.jpg') + glob('./valid/images/*.jpeg')\n",
    "#txt파일에 write\n",
    "with open('./train.txt', 'w') as f:\n",
    "\tf.write('\\n'.join(train_img_list) + '\\n')\n",
    "    \n",
    "with open('./valid.txt', 'w') as f:\n",
    "\tf.write('\\n'.join(valid_img_list) + '\\n')"
   ]
  },
  {
   "cell_type": "code",
   "execution_count": null,
   "metadata": {
    "id": "TVyMMj5XhBCD"
   },
   "outputs": [],
   "source": [
    "#train\n",
    "!python /content/yolov5/train.py --epoch 300\n",
    "--data /content/drive/MyDrive/datasets/data.yaml --name result_yg --weights /content/best.pt --cfg /content/yolov5/models/yolov5x.yaml"
   ]
  },
  {
   "cell_type": "code",
   "execution_count": null,
   "metadata": {
    "id": "-BA7vZjJxCxd"
   },
   "outputs": [],
   "source": [
    "#valid\n",
    "!python /content/drive/MyDrive/yolov5/val.py --weights /content/drive/MyDrive/yolov5/models/best.pt --source /content/drive/MyDrive/test_video.mp4 --save-txt "
   ]
  },
  {
   "cell_type": "code",
   "execution_count": 3,
   "metadata": {
    "id": "OekJL4xR-yHH"
   },
   "outputs": [
    {
     "name": "stdout",
     "output_type": "stream",
     "text": [
      "[\"\\x1b[34m\\x1b[1mdetect: \\x1b[0mweights=['/content/yolov5/best.pt'], source=/content/test_video.mp4, data=data\\\\coco128.yaml, imgsz=[640, 640], conf_thres=0.25, iou_thres=0.45, max_det=1000, device=, view_img=False, save_txt=True, save_conf=False, save_crop=False, nosave=False, classes=None, agnostic_nms=False, augment=False, visualize=False, update=False, project=runs\\\\detect, name=result, exist_ok=False, line_thickness=3, hide_labels=False, hide_conf=True, half=False, dnn=False, vid_stride=1\", 'YOLOv5  v7.0-168-gec2b853 Python-3.9.16 torch-1.13.1+cpu CPU', '', '\\x1b[31m\\x1b[1mrequirements:\\x1b[0m C:\\\\Users\\\\OSY\\\\anaconda3\\\\envs\\\\osy\\\\Lib\\\\site-packages\\\\requirements.txt not found, check failed.', 'Traceback (most recent call last):', '  File \"D:\\\\integrate\\\\yolov5\\\\detect.py\", line 261, in <module>', '    main(opt)', '  File \"D:\\\\integrate\\\\yolov5\\\\detect.py\", line 256, in main', '    run(**vars(opt))', '  File \"C:\\\\Users\\\\OSY\\\\anaconda3\\\\envs\\\\osy\\\\lib\\\\site-packages\\\\torch\\\\autograd\\\\grad_mode.py\", line 27, in decorate_context', '    return func(*args, **kwargs)', '  File \"D:\\\\integrate\\\\yolov5\\\\detect.py\", line 98, in run', '    model = DetectMultiBackend(weights, device=device, dnn=dnn, data=data, fp16=half)', '  File \"D:\\\\integrate\\\\yolov5\\\\models\\\\common.py\", line 344, in __init__', '    model = attempt_load(weights if isinstance(weights, list) else w, device=device, inplace=True, fuse=fuse)', '  File \"D:\\\\integrate\\\\yolov5\\\\models\\\\experimental.py\", line 79, in attempt_load', \"    ckpt = torch.load(attempt_download(w), map_location='cpu')  # load\", '  File \"C:\\\\Users\\\\OSY\\\\anaconda3\\\\envs\\\\osy\\\\lib\\\\site-packages\\\\torch\\\\serialization.py\", line 771, in load', \"    with _open_file_like(f, 'rb') as opened_file:\", '  File \"C:\\\\Users\\\\OSY\\\\anaconda3\\\\envs\\\\osy\\\\lib\\\\site-packages\\\\torch\\\\serialization.py\", line 270, in _open_file_like', '    return _open_file(name_or_buffer, mode)', '  File \"C:\\\\Users\\\\OSY\\\\anaconda3\\\\envs\\\\osy\\\\lib\\\\site-packages\\\\torch\\\\serialization.py\", line 251, in __init__', '    super(_open_file, self).__init__(open(name, mode))', \"FileNotFoundError: [Errno 2] No such file or directory: '\\\\\\\\content\\\\\\\\yolov5\\\\\\\\best.pt'\"]\n"
     ]
    }
   ],
   "source": [
    "#detect\n",
    "output = !python ./detect.py --source /content/test_video.mp4 --weights /content/yolov5/best.pt --name result --save-txt --hide-conf\n",
    "print(output)"
   ]
  },
  {
   "cell_type": "code",
   "execution_count": null,
   "metadata": {},
   "outputs": [],
   "source": []
  }
 ],
 "metadata": {
  "accelerator": "GPU",
  "colab": {
   "private_outputs": true,
   "provenance": [
    {
     "file_id": "1k0euxPKXeAws9k8szXsDKQZaMMgvGNxt",
     "timestamp": 1684411916409
    }
   ]
  },
  "gpuClass": "standard",
  "kernelspec": {
   "display_name": "Python 3 (ipykernel)",
   "language": "python",
   "name": "python3"
  },
  "language_info": {
   "codemirror_mode": {
    "name": "ipython",
    "version": 3
   },
   "file_extension": ".py",
   "mimetype": "text/x-python",
   "name": "python",
   "nbconvert_exporter": "python",
   "pygments_lexer": "ipython3",
   "version": "3.9.16"
  }
 },
 "nbformat": 4,
 "nbformat_minor": 1
}
